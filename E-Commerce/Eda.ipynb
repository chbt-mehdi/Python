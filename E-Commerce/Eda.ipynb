{
 "cells": [
  {
   "cell_type": "markdown",
   "metadata": {},
   "source": [
    "### Imports\n",
    "\n",
    "* Import packages\n",
    "* Load dataset\n"
   ]
  },
  {
   "cell_type": "markdown",
   "metadata": {},
   "source": [
    "#### Import packages"
   ]
  },
  {
   "cell_type": "code",
   "execution_count": 1,
   "metadata": {},
   "outputs": [],
   "source": [
    "# Import packages for data manipulation\n",
    "import numpy as np\n",
    "import pandas as pd\n",
    "import os\n",
    "\n",
    "# Import packages for data preprocessing\n",
    "from sklearn.preprocessing import StandardScaler\n",
    "\n",
    "# Import packages for data visualization\n",
    "import matplotlib.pyplot as plt\n",
    "import plotly.express as px\n",
    "import seaborn as sns\n",
    "from sklearn.tree import plot_tree\n",
    "from xgboost import plot_importance \n",
    "\n",
    "# Import packages for statistical modeling\n",
    "from scipy.stats import chi2_contingency\n",
    "import statsmodels.api as sm\n",
    "from statsmodels.formula.api import ols\n",
    "\n",
    "# Import packages for machine learning\n",
    "\n",
    "from pycaret.classification import *\n",
    "from sklearn.discriminant_analysis import LinearDiscriminantAnalysis, QuadraticDiscriminantAnalysis\n",
    "from sklearn.ensemble import RandomForestClassifier\n",
    "from sklearn.linear_model import LinearRegression, LogisticRegression\n",
    "from sklearn.model_selection import GridSearchCV, train_test_split\n",
    "from sklearn.naive_bayes import GaussianNB\n",
    "from sklearn.neighbors import KNeighborsClassifier\n",
    "from sklearn.svm import SVC\n",
    "from sklearn.tree import DecisionTreeClassifier\n",
    "from xgboost import XGBClassifier\n",
    "\n",
    "# Import packages for model evaluation\n",
    "from sklearn.metrics import (ConfusionMatrixDisplay, RocCurveDisplay, accuracy_score, classification_report,\n",
    "                             confusion_matrix, f1_score, mean_absolute_error, mean_squared_error, precision_score,\n",
    "                             r2_score, recall_score, roc_auc_score, roc_curve)\n",
    "\n",
    "# Miscellaneous\n",
    "from ydata_profiling import ProfileReport\n"
   ]
  },
  {
   "cell_type": "markdown",
   "metadata": {},
   "source": [
    "#### Load dataset"
   ]
  },
  {
   "cell_type": "code",
   "execution_count": 2,
   "metadata": {},
   "outputs": [],
   "source": [
    "cd = os.getcwd()\n",
    "\n",
    "customer = pd.read_csv(os.path.join(cd, 'olist_customers_dataset.csv'))\n",
    "geo = pd.read_csv(os.path.join(cd,'olist_geolocation_dataset.csv'))\n",
    "item = pd.read_csv(os.path.join(cd, 'olist_order_items_dataset.csv'))\n",
    "payment = pd.read_csv(os.path.join(cd, 'olist_order_payments_dataset.csv'))\n",
    "review = pd.read_csv(os.path.join(cd, 'olist_order_reviews_dataset.csv'))\n",
    "order = pd.read_csv(os.path.join(cd, 'olist_orders_dataset.csv'))\n",
    "product_list = pd.read_csv(os.path.join(cd, 'olist_products_dataset.csv'))\n",
    "seller = pd.read_csv(os.path.join(cd, 'olist_sellers_dataset.csv'))\n",
    "product_category = pd.read_csv(os.path.join(cd, 'product_category_name_translation.csv'))"
   ]
  },
  {
   "cell_type": "markdown",
   "metadata": {},
   "source": [
    "### Data Exploration (Initial EDA and Data Cleaning)\n",
    "\n",
    "* Understand your variables\n",
    "* Clean your dataset (missing data, redundant data, outliers)"
   ]
  },
  {
   "cell_type": "markdown",
   "metadata": {},
   "source": [
    "#### Gather basic information about the data"
   ]
  },
  {
   "cell_type": "code",
   "execution_count": 3,
   "metadata": {},
   "outputs": [
    {
     "name": "stdout",
     "output_type": "stream",
     "text": [
      "['customer_id', 'customer_unique_id', 'customer_zip_code_prefix', 'customer_city', 'customer_state'] 5\n",
      "['geolocation_zip_code_prefix', 'geolocation_lat', 'geolocation_lng', 'geolocation_city', 'geolocation_state'] 5\n",
      "['order_id', 'order_item_id', 'product_id', 'seller_id', 'shipping_limit_date', 'price', 'freight_value'] 7\n",
      "['order_id', 'payment_sequential', 'payment_type', 'payment_installments', 'payment_value'] 5\n",
      "['review_id', 'order_id', 'review_score', 'review_comment_title', 'review_comment_message', 'review_creation_date', 'review_answer_timestamp'] 7\n",
      "['order_id', 'customer_id', 'order_status', 'order_purchase_timestamp', 'order_approved_at', 'order_delivered_carrier_date', 'order_delivered_customer_date', 'order_estimated_delivery_date'] 8\n",
      "['product_id', 'product_category_name', 'product_name_lenght', 'product_description_lenght', 'product_photos_qty', 'product_weight_g', 'product_length_cm', 'product_height_cm', 'product_width_cm'] 9\n",
      "['seller_id', 'seller_zip_code_prefix', 'seller_city', 'seller_state'] 4\n",
      "['product_category_name', 'product_category_name_english'] 2\n"
     ]
    }
   ],
   "source": [
    "list_of_df = [customer\n",
    "              ,geo\n",
    "              ,item\n",
    "              ,payment\n",
    "              ,review\n",
    "              ,order\n",
    "              ,product_list\n",
    "              ,seller\n",
    "              ,product_category]\n",
    "\n",
    "for df in list_of_df:\n",
    "    print(list(df.columns), len(df.columns))"
   ]
  },
  {
   "cell_type": "code",
   "execution_count": 4,
   "metadata": {},
   "outputs": [
    {
     "name": "stdout",
     "output_type": "stream",
     "text": [
      "Columns: ['customer_id', 'customer_unique_id', 'customer_zip_code_prefix', 'customer_city', 'customer_state'] Total Columns: 5\n",
      "Missing Values (per column):\n",
      "customer_id                 0\n",
      "customer_unique_id          0\n",
      "customer_zip_code_prefix    0\n",
      "customer_city               0\n",
      "customer_state              0\n",
      "dtype: int64\n",
      "Total Duplicates: 0\n",
      "--------------------------------------------------\n",
      "Columns: ['geolocation_zip_code_prefix', 'geolocation_lat', 'geolocation_lng', 'geolocation_city', 'geolocation_state'] Total Columns: 5\n",
      "Missing Values (per column):\n",
      "geolocation_zip_code_prefix    0\n",
      "geolocation_lat                0\n",
      "geolocation_lng                0\n",
      "geolocation_city               0\n",
      "geolocation_state              0\n",
      "dtype: int64\n",
      "Total Duplicates: 261831\n",
      "--------------------------------------------------\n",
      "Columns: ['order_id', 'order_item_id', 'product_id', 'seller_id', 'shipping_limit_date', 'price', 'freight_value'] Total Columns: 7\n",
      "Missing Values (per column):\n",
      "order_id               0\n",
      "order_item_id          0\n",
      "product_id             0\n",
      "seller_id              0\n",
      "shipping_limit_date    0\n",
      "price                  0\n",
      "freight_value          0\n",
      "dtype: int64\n",
      "Total Duplicates: 0\n",
      "--------------------------------------------------\n",
      "Columns: ['order_id', 'payment_sequential', 'payment_type', 'payment_installments', 'payment_value'] Total Columns: 5\n",
      "Missing Values (per column):\n",
      "order_id                0\n",
      "payment_sequential      0\n",
      "payment_type            0\n",
      "payment_installments    0\n",
      "payment_value           0\n",
      "dtype: int64\n",
      "Total Duplicates: 0\n",
      "--------------------------------------------------\n",
      "Columns: ['review_id', 'order_id', 'review_score', 'review_comment_title', 'review_comment_message', 'review_creation_date', 'review_answer_timestamp'] Total Columns: 7\n",
      "Missing Values (per column):\n",
      "review_id                      0\n",
      "order_id                       0\n",
      "review_score                   0\n",
      "review_comment_title       87656\n",
      "review_comment_message     58247\n",
      "review_creation_date           0\n",
      "review_answer_timestamp        0\n",
      "dtype: int64\n",
      "Total Duplicates: 0\n",
      "--------------------------------------------------\n",
      "Columns: ['order_id', 'customer_id', 'order_status', 'order_purchase_timestamp', 'order_approved_at', 'order_delivered_carrier_date', 'order_delivered_customer_date', 'order_estimated_delivery_date'] Total Columns: 8\n",
      "Missing Values (per column):\n",
      "order_id                            0\n",
      "customer_id                         0\n",
      "order_status                        0\n",
      "order_purchase_timestamp            0\n",
      "order_approved_at                 160\n",
      "order_delivered_carrier_date     1783\n",
      "order_delivered_customer_date    2965\n",
      "order_estimated_delivery_date       0\n",
      "dtype: int64\n",
      "Total Duplicates: 0\n",
      "--------------------------------------------------\n",
      "Columns: ['product_id', 'product_category_name', 'product_name_lenght', 'product_description_lenght', 'product_photos_qty', 'product_weight_g', 'product_length_cm', 'product_height_cm', 'product_width_cm'] Total Columns: 9\n",
      "Missing Values (per column):\n",
      "product_id                      0\n",
      "product_category_name         610\n",
      "product_name_lenght           610\n",
      "product_description_lenght    610\n",
      "product_photos_qty            610\n",
      "product_weight_g                2\n",
      "product_length_cm               2\n",
      "product_height_cm               2\n",
      "product_width_cm                2\n",
      "dtype: int64\n",
      "Total Duplicates: 0\n",
      "--------------------------------------------------\n",
      "Columns: ['seller_id', 'seller_zip_code_prefix', 'seller_city', 'seller_state'] Total Columns: 4\n",
      "Missing Values (per column):\n",
      "seller_id                 0\n",
      "seller_zip_code_prefix    0\n",
      "seller_city               0\n",
      "seller_state              0\n",
      "dtype: int64\n",
      "Total Duplicates: 0\n",
      "--------------------------------------------------\n",
      "Columns: ['product_category_name', 'product_category_name_english'] Total Columns: 2\n",
      "Missing Values (per column):\n",
      "product_category_name            0\n",
      "product_category_name_english    0\n",
      "dtype: int64\n",
      "Total Duplicates: 0\n",
      "--------------------------------------------------\n"
     ]
    }
   ],
   "source": [
    "list_of_df = [customer,\n",
    "              geo,\n",
    "              item,\n",
    "              payment,\n",
    "              review,\n",
    "              order,\n",
    "              product_list,\n",
    "              seller,\n",
    "              product_category]\n",
    "\n",
    "for df in list_of_df:\n",
    "    print(\"Columns:\", list(df.columns), \"Total Columns:\", len(df.columns))\n",
    "    print(\"Missing Values (per column):\")\n",
    "    print(df.isna().sum())\n",
    "    print(\"Total Duplicates:\", df.duplicated().sum())\n",
    "    print(\"-\" * 50)  # Separator for better readability\n"
   ]
  },
  {
   "cell_type": "code",
   "execution_count": 5,
   "metadata": {},
   "outputs": [
    {
     "data": {
      "image/png": "[encoded data removed]",
      "text/plain": [
       "<Figure size 1600x1200 with 3 Axes>"
      ]
     },
     "metadata": {},
     "output_type": "display_data"
    }
   ],
   "source": [
    "# Assuming 'item' is the DataFrame containing 'price'\n",
    "item['price'].fillna(-1, inplace=True)\n",
    "\n",
    "plt.figure(figsize=(16, 12))\n",
    "plt.suptitle('Price Distributions', fontsize=22)\n",
    "\n",
    "# Subplot 1: Price Distribution\n",
    "plt.subplot(221)\n",
    "g = sns.histplot(item['price'], kde=True, bins=50, color='blue')\n",
    "g.set_title(\"Price Distributions\", fontsize=18)\n",
    "g.set_xlabel(\"Price Values\", fontsize=15)\n",
    "g.set_ylabel(\"Density\", fontsize=15)\n",
    "\n",
    "# Subplot 2: Log Price Distribution\n",
    "plt.subplot(222)\n",
    "g1 = sns.histplot(np.log(item['price'] + 1.5), kde=True, bins=50, color='green')\n",
    "g1.set_title(\"Price (LOG) Distributions\", fontsize=18)\n",
    "g1.set_xlabel(\"Log(Price + 1.5)\", fontsize=15)\n",
    "g1.set_ylabel(\"Density\", fontsize=15)\n",
    "\n",
    "# Subplot 3: ECDF of Prices\n",
    "plt.subplot(212)\n",
    "g4 = plt.scatter(range(item.shape[0]),\n",
    "                 np.sort(item['price'].values),\n",
    "                 alpha=0.1, color='purple')\n",
    "plt.title(\"Empirical CDF of Prices\", fontsize=18)\n",
    "plt.xlabel(\"Index\", fontsize=15)\n",
    "plt.ylabel(\"Price Values\", fontsize=15)\n",
    "plt.axhline(item[item['price'] != -1]['price'].mean(), color='black',\n",
    "            label='Mean Price', linewidth=2)\n",
    "plt.axhline(item[item['price'] != -1]['price'].mean() +\n",
    "            (2.5 * item[item['price'] != -1]['price'].std()),\n",
    "            color='red', label='Mean + 2.5*Stdev', linewidth=2)\n",
    "plt.legend()\n",
    "\n",
    "plt.subplots_adjust(hspace=0.4, top=0.85)\n",
    "plt.show()\n"
   ]
  },
  {
   "cell_type": "markdown",
   "metadata": {},
   "source": [
    "### Payment Type"
   ]
  },
  {
   "cell_type": "code",
   "execution_count": 6,
   "metadata": {},
   "outputs": [],
   "source": [
    "payment['price_log'] = np.log(item['price'] + 1.5)"
   ]
  },
  {
   "cell_type": "code",
   "execution_count": 7,
   "metadata": {},
   "outputs": [
    {
     "data": {
      "image/png": "[encoded data removed]",
      "text/plain": [
       "<Figure size 1400x600 with 2 Axes>"
      ]
     },
     "metadata": {},
     "output_type": "display_data"
    }
   ],
   "source": [
    "# Create a log-transformed 'price_log' column safely\n",
    "payment['price_log'] = np.log(item['price'].clip(lower=0) + 1.5)  # Ensures no negative or NaN values\n",
    "\n",
    "# Calculate the total number of valid entries\n",
    "total_payment_types = len(payment[payment['payment_type'] != 'not_defined'])\n",
    "\n",
    "# Set up the figure\n",
    "plt.figure(figsize=(14, 6))\n",
    "plt.suptitle('Payment Type Distributions', fontsize=22)\n",
    "\n",
    "# Subplot 1: Count distribution of payment types\n",
    "plt.subplot(121)\n",
    "count_plot = sns.countplot(x='payment_type', data=payment[payment['payment_type'] != 'not_defined'])\n",
    "count_plot.set_title(\"Payment Type\", fontsize=20)\n",
    "count_plot.set_xlabel(\"Payment Type\", fontsize=17)\n",
    "count_plot.set_ylabel(\"Count\", fontsize=17)\n",
    "\n",
    "# Annotate percentage on each bar\n",
    "for p in count_plot.patches:\n",
    "    height = p.get_height()\n",
    "    percentage = (height / total_payment_types) * 100\n",
    "    count_plot.text(p.get_x() + p.get_width() / 2, height + 3,\n",
    "                    f'{percentage:.2f}%', ha=\"center\", fontsize=14)\n",
    "\n",
    "# Adjust y-axis limit for annotation space\n",
    "count_plot.set_ylim(0, max(p.get_height() for p in count_plot.patches) * 1.1)\n",
    "\n",
    "# Subplot 2: Boxplot of price distribution by payment type\n",
    "plt.subplot(122)\n",
    "box_plot = sns.boxplot(x='payment_type', y='price_log', data=payment[payment['payment_type'] != 'not_defined'])\n",
    "box_plot.set_title(\"Payment Type by Price\", fontsize=20)\n",
    "box_plot.set_xlabel(\"Payment Type\", fontsize=17)\n",
    "box_plot.set_ylabel(\"Price\", fontsize=17)\n",
    "\n",
    "# Adjust layout\n",
    "plt.subplots_adjust(hspace=0.5, top=0.8)\n",
    "plt.show()\n"
   ]
  },
  {
   "cell_type": "markdown",
   "metadata": {},
   "source": [
    "### Conversion Rate"
   ]
  },
  {
   "cell_type": "code",
   "execution_count": 8,
   "metadata": {},
   "outputs": [
    {
     "name": "stdout",
     "output_type": "stream",
     "text": [
      "Conversion Rate: 1.03%\n"
     ]
    }
   ],
   "source": [
    "# Assuming total_visitors is provided separately\n",
    "total_orders = order['order_id'].nunique()\n",
    "\n",
    "# Correctly calculate total unique visitors\n",
    "total_visitors = customer['customer_unique_id'].nunique()\n",
    "\n",
    "# Calculate conversion rate\n",
    "conversion_rate = (total_orders / total_visitors)\n",
    "print(f\"Conversion Rate: {conversion_rate:.2f}%\")"
   ]
  },
  {
   "cell_type": "markdown",
   "metadata": {},
   "source": [
    "### Retention Rate"
   ]
  },
  {
   "cell_type": "markdown",
   "metadata": {},
   "source": [
    "pas le temps de cherche (to finish if there is time)"
   ]
  },
  {
   "cell_type": "code",
   "execution_count": 9,
   "metadata": {},
   "outputs": [
    {
     "name": "stdout",
     "output_type": "stream",
     "text": [
      "Retention Rate: 0.00%\n"
     ]
    }
   ],
   "source": [
    "# Identify customers with more than one order\n",
    "customer_order_counts = order.groupby('customer_id')['order_id'].nunique()\n",
    "\n",
    "# Count returning customers (customers with more than one order)\n",
    "returning_customers = customer_order_counts[customer_order_counts > 1].count()\n",
    "\n",
    "# Total unique customers\n",
    "total_customers = order['customer_id'].nunique()\n",
    "\n",
    "# Calculate retention rate\n",
    "retention_rate = (returning_customers / total_customers)\n",
    "print(f\"Retention Rate: {retention_rate:.2f}%\")\n"
   ]
  },
  {
   "cell_type": "markdown",
   "metadata": {},
   "source": [
    "### Successful Delivery Rate"
   ]
  },
  {
   "cell_type": "code",
   "execution_count": 10,
   "metadata": {},
   "outputs": [
    {
     "name": "stdout",
     "output_type": "stream",
     "text": [
      "Successful Delivery Rate: 97.02%\n"
     ]
    }
   ],
   "source": [
    "# Count successfully delivered orders\n",
    "successful_deliveries = order[~order['order_delivered_customer_date'].isna()].shape[0]\n",
    "\n",
    "# Total orders\n",
    "total_orders = order['order_id'].nunique()\n",
    "\n",
    "# Successful delivery rate calculation\n",
    "successful_delivery_rate = (successful_deliveries / total_orders) * 100\n",
    "print(f\"Successful Delivery Rate: {successful_delivery_rate:.2f}%\")\n"
   ]
  },
  {
   "cell_type": "markdown",
   "metadata": {},
   "source": [
    "### RFM ANALYSIS"
   ]
  },
  {
   "cell_type": "markdown",
   "metadata": {},
   "source": [
    "RFM (Recency, Frequency, Monetary) analysis, helping to:\n",
    "\n",
    "- Segment customers based on how recently they purchased.\n",
    "- Identify engaged customers and target them for retention campaigns.\n",
    "- Focus on reactivating less engaged customers."
   ]
  },
  {
   "cell_type": "markdown",
   "metadata": {},
   "source": [
    "#### 1) RECENCY"
   ]
  },
  {
   "cell_type": "code",
   "execution_count": 39,
   "metadata": {},
   "outputs": [
    {
     "data": {
      "text/html": [
       "<div>\n",
       "<style scoped>\n",
       "    .dataframe tbody tr th:only-of-type {\n",
       "        vertical-align: middle;\n",
       "    }\n",
       "\n",
       "    .dataframe tbody tr th {\n",
       "        vertical-align: top;\n",
       "    }\n",
       "\n",
       "    .dataframe thead th {\n",
       "        text-align: right;\n",
       "    }\n",
       "</style>\n",
       "<table border=\"1\" class=\"dataframe\">\n",
       "  <thead>\n",
       "    <tr style=\"text-align: right;\">\n",
       "      <th></th>\n",
       "      <th>customer_unique_id</th>\n",
       "      <th>order_purchase_timestamp</th>\n",
       "      <th>days_between</th>\n",
       "      <th>recency_score</th>\n",
       "    </tr>\n",
       "  </thead>\n",
       "  <tbody>\n",
       "    <tr>\n",
       "      <th>0</th>\n",
       "      <td>0000366f3b9a7992bf8c76cfdf3221e2</td>\n",
       "      <td>2018-05-10 10:56:27</td>\n",
       "      <td>160</td>\n",
       "      <td>2</td>\n",
       "    </tr>\n",
       "    <tr>\n",
       "      <th>1</th>\n",
       "      <td>0000b849f77a49e4a4ce2b2a4ca5be3f</td>\n",
       "      <td>2018-05-07 11:11:27</td>\n",
       "      <td>163</td>\n",
       "      <td>2</td>\n",
       "    </tr>\n",
       "    <tr>\n",
       "      <th>2</th>\n",
       "      <td>0000f46a3911fa3c0805444483337064</td>\n",
       "      <td>2017-03-10 21:05:03</td>\n",
       "      <td>585</td>\n",
       "      <td>5</td>\n",
       "    </tr>\n",
       "    <tr>\n",
       "      <th>3</th>\n",
       "      <td>0000f6ccb0745a6a4b88665a16c9f078</td>\n",
       "      <td>2017-10-12 20:29:41</td>\n",
       "      <td>369</td>\n",
       "      <td>4</td>\n",
       "    </tr>\n",
       "    <tr>\n",
       "      <th>4</th>\n",
       "      <td>0004aac84e0df4da2b147fca70cf8255</td>\n",
       "      <td>2017-11-14 19:45:42</td>\n",
       "      <td>336</td>\n",
       "      <td>4</td>\n",
       "    </tr>\n",
       "    <tr>\n",
       "      <th>...</th>\n",
       "      <td>...</td>\n",
       "      <td>...</td>\n",
       "      <td>...</td>\n",
       "      <td>...</td>\n",
       "    </tr>\n",
       "    <tr>\n",
       "      <th>96091</th>\n",
       "      <td>fffcf5a5ff07b0908bd4e2dbc735a684</td>\n",
       "      <td>2017-06-08 21:00:36</td>\n",
       "      <td>495</td>\n",
       "      <td>5</td>\n",
       "    </tr>\n",
       "    <tr>\n",
       "      <th>96092</th>\n",
       "      <td>fffea47cd6d3cc0a88bd621562a9d061</td>\n",
       "      <td>2017-12-10 20:07:56</td>\n",
       "      <td>310</td>\n",
       "      <td>3</td>\n",
       "    </tr>\n",
       "    <tr>\n",
       "      <th>96093</th>\n",
       "      <td>ffff371b4d645b6ecea244b27531430a</td>\n",
       "      <td>2017-02-07 15:49:16</td>\n",
       "      <td>617</td>\n",
       "      <td>5</td>\n",
       "    </tr>\n",
       "    <tr>\n",
       "      <th>96094</th>\n",
       "      <td>ffff5962728ec6157033ef9805bacc48</td>\n",
       "      <td>2018-05-02 15:17:41</td>\n",
       "      <td>168</td>\n",
       "      <td>2</td>\n",
       "    </tr>\n",
       "    <tr>\n",
       "      <th>96095</th>\n",
       "      <td>ffffd2657e2aad2907e67c3e9daecbeb</td>\n",
       "      <td>2017-05-02 20:18:45</td>\n",
       "      <td>532</td>\n",
       "      <td>5</td>\n",
       "    </tr>\n",
       "  </tbody>\n",
       "</table>\n",
       "<p>96096 rows × 4 columns</p>\n",
       "</div>"
      ],
      "text/plain": [
       "                     customer_unique_id order_purchase_timestamp  \\\n",
       "0      0000366f3b9a7992bf8c76cfdf3221e2      2018-05-10 10:56:27   \n",
       "1      0000b849f77a49e4a4ce2b2a4ca5be3f      2018-05-07 11:11:27   \n",
       "2      0000f46a3911fa3c0805444483337064      2017-03-10 21:05:03   \n",
       "3      0000f6ccb0745a6a4b88665a16c9f078      2017-10-12 20:29:41   \n",
       "4      0004aac84e0df4da2b147fca70cf8255      2017-11-14 19:45:42   \n",
       "...                                 ...                      ...   \n",
       "96091  fffcf5a5ff07b0908bd4e2dbc735a684      2017-06-08 21:00:36   \n",
       "96092  fffea47cd6d3cc0a88bd621562a9d061      2017-12-10 20:07:56   \n",
       "96093  ffff371b4d645b6ecea244b27531430a      2017-02-07 15:49:16   \n",
       "96094  ffff5962728ec6157033ef9805bacc48      2018-05-02 15:17:41   \n",
       "96095  ffffd2657e2aad2907e67c3e9daecbeb      2017-05-02 20:18:45   \n",
       "\n",
       "       days_between  recency_score  \n",
       "0               160              2  \n",
       "1               163              2  \n",
       "2               585              5  \n",
       "3               369              4  \n",
       "4               336              4  \n",
       "...             ...            ...  \n",
       "96091           495              5  \n",
       "96092           310              3  \n",
       "96093           617              5  \n",
       "96094           168              2  \n",
       "96095           532              5  \n",
       "\n",
       "[96096 rows x 4 columns]"
      ]
     },
     "execution_count": 39,
     "metadata": {},
     "output_type": "execute_result"
    }
   ],
   "source": [
    "# getting the latest day of purchase for each user\n",
    "recency_table = customer.merge(order, on =\"customer_id\")\n",
    "recency_table = recency_table.groupby('customer_unique_id').agg({'order_purchase_timestamp': 'max'}).reset_index()\n",
    "# convert to datetime dtype\n",
    "recency_table['order_purchase_timestamp'] = pd.to_datetime(recency_table['order_purchase_timestamp'])\n",
    "# calculate the current day \n",
    "current_day = pd.to_datetime(max(order['order_purchase_timestamp']))\n",
    "# calculate the days between\n",
    "recency_table['days_between'] = (current_day - recency_table['order_purchase_timestamp']).apply(lambda x: int(str(x).split()[0]))\n",
    "# def function that scores the data\n",
    "def scoring(x):\n",
    "    # calculate quantiles\n",
    "    quan_val_list = []\n",
    "    for quan in [0.2,0.4,0.6,0.8]:\n",
    "        quan_val_list.append(np.quantile(x,quan))\n",
    "    # label the data base on the quantile value\n",
    "    def labeling(x):\n",
    "        if x < quan_val_list[0]: return 1\n",
    "        elif x < quan_val_list[1]: return 2\n",
    "        elif x < quan_val_list[2]: return 3\n",
    "        elif x < quan_val_list[3]: return 4\n",
    "        else: return 5\n",
    "\n",
    "    return x.apply(labeling)\n",
    "\n",
    "recency_table['recency_score'] = scoring(recency_table['days_between'])\n",
    "recency_table"
   ]
  },
  {
   "cell_type": "markdown",
   "metadata": {},
   "source": [
    "#### 2) FREQUENCY"
   ]
  },
  {
   "cell_type": "code",
   "execution_count": 40,
   "metadata": {},
   "outputs": [],
   "source": [
    "# merging df\n",
    "frequency_table = customer.merge(order, on=\"customer_id\")\n",
    "# getting interested information\n",
    "frequency_table = frequency_table.groupby('customer_unique_id').agg({\n",
    "    \"order_purchase_timestamp\": ['min', 'max'],\n",
    "    \"order_id\": 'count'\n",
    "}).reset_index()\n",
    "# change columns\n",
    "frequency_table.columns = ['customer_unique_id', 'min', 'max', 'count']\n",
    "# change data type\n",
    "frequency_table['max'] = pd.to_datetime(frequency_table['max'])\n",
    "frequency_table['min'] = pd.to_datetime(frequency_table['min'])\n",
    "# days between first and last day of purchase \n",
    "frequency_table['days_between'] = (frequency_table['max'] - frequency_table['min']).apply(lambda x: int(str(x).split()[0]))\n",
    "frequency_table['days_between'].value_counts()\n",
    "# get rid of one-time-purchase customer\n",
    "frequency_table = frequency_table[frequency_table['days_between']>0]\n",
    "# calculate purchase_rate\n",
    "frequency_table['purchase_rate'] = frequency_table['count'] / frequency_table['days_between']\n",
    "# score the purchase_rate\n",
    "frequency_table['frequency_score'] = scoring(frequency_table['purchase_rate'])"
   ]
  },
  {
   "cell_type": "markdown",
   "metadata": {},
   "source": [
    "#### 3) MONETARY"
   ]
  },
  {
   "cell_type": "code",
   "execution_count": 41,
   "metadata": {},
   "outputs": [
    {
     "data": {
      "text/html": [
       "<div>\n",
       "<style scoped>\n",
       "    .dataframe tbody tr th:only-of-type {\n",
       "        vertical-align: middle;\n",
       "    }\n",
       "\n",
       "    .dataframe tbody tr th {\n",
       "        vertical-align: top;\n",
       "    }\n",
       "\n",
       "    .dataframe thead th {\n",
       "        text-align: right;\n",
       "    }\n",
       "</style>\n",
       "<table border=\"1\" class=\"dataframe\">\n",
       "  <thead>\n",
       "    <tr style=\"text-align: right;\">\n",
       "      <th></th>\n",
       "      <th>customer_unique_id</th>\n",
       "      <th>payment_value</th>\n",
       "      <th>monetary_score</th>\n",
       "    </tr>\n",
       "  </thead>\n",
       "  <tbody>\n",
       "    <tr>\n",
       "      <th>0</th>\n",
       "      <td>0000366f3b9a7992bf8c76cfdf3221e2</td>\n",
       "      <td>141.90</td>\n",
       "      <td>4</td>\n",
       "    </tr>\n",
       "    <tr>\n",
       "      <th>1</th>\n",
       "      <td>0000b849f77a49e4a4ce2b2a4ca5be3f</td>\n",
       "      <td>27.19</td>\n",
       "      <td>1</td>\n",
       "    </tr>\n",
       "    <tr>\n",
       "      <th>2</th>\n",
       "      <td>0000f46a3911fa3c0805444483337064</td>\n",
       "      <td>86.22</td>\n",
       "      <td>2</td>\n",
       "    </tr>\n",
       "    <tr>\n",
       "      <th>3</th>\n",
       "      <td>0000f6ccb0745a6a4b88665a16c9f078</td>\n",
       "      <td>43.62</td>\n",
       "      <td>1</td>\n",
       "    </tr>\n",
       "    <tr>\n",
       "      <th>4</th>\n",
       "      <td>0004aac84e0df4da2b147fca70cf8255</td>\n",
       "      <td>196.89</td>\n",
       "      <td>4</td>\n",
       "    </tr>\n",
       "    <tr>\n",
       "      <th>...</th>\n",
       "      <td>...</td>\n",
       "      <td>...</td>\n",
       "      <td>...</td>\n",
       "    </tr>\n",
       "    <tr>\n",
       "      <th>96090</th>\n",
       "      <td>fffcf5a5ff07b0908bd4e2dbc735a684</td>\n",
       "      <td>2067.42</td>\n",
       "      <td>5</td>\n",
       "    </tr>\n",
       "    <tr>\n",
       "      <th>96091</th>\n",
       "      <td>fffea47cd6d3cc0a88bd621562a9d061</td>\n",
       "      <td>84.58</td>\n",
       "      <td>2</td>\n",
       "    </tr>\n",
       "    <tr>\n",
       "      <th>96092</th>\n",
       "      <td>ffff371b4d645b6ecea244b27531430a</td>\n",
       "      <td>112.46</td>\n",
       "      <td>3</td>\n",
       "    </tr>\n",
       "    <tr>\n",
       "      <th>96093</th>\n",
       "      <td>ffff5962728ec6157033ef9805bacc48</td>\n",
       "      <td>133.69</td>\n",
       "      <td>4</td>\n",
       "    </tr>\n",
       "    <tr>\n",
       "      <th>96094</th>\n",
       "      <td>ffffd2657e2aad2907e67c3e9daecbeb</td>\n",
       "      <td>71.56</td>\n",
       "      <td>2</td>\n",
       "    </tr>\n",
       "  </tbody>\n",
       "</table>\n",
       "<p>96095 rows × 3 columns</p>\n",
       "</div>"
      ],
      "text/plain": [
       "                     customer_unique_id  payment_value  monetary_score\n",
       "0      0000366f3b9a7992bf8c76cfdf3221e2         141.90               4\n",
       "1      0000b849f77a49e4a4ce2b2a4ca5be3f          27.19               1\n",
       "2      0000f46a3911fa3c0805444483337064          86.22               2\n",
       "3      0000f6ccb0745a6a4b88665a16c9f078          43.62               1\n",
       "4      0004aac84e0df4da2b147fca70cf8255         196.89               4\n",
       "...                                 ...            ...             ...\n",
       "96090  fffcf5a5ff07b0908bd4e2dbc735a684        2067.42               5\n",
       "96091  fffea47cd6d3cc0a88bd621562a9d061          84.58               2\n",
       "96092  ffff371b4d645b6ecea244b27531430a         112.46               3\n",
       "96093  ffff5962728ec6157033ef9805bacc48         133.69               4\n",
       "96094  ffffd2657e2aad2907e67c3e9daecbeb          71.56               2\n",
       "\n",
       "[96095 rows x 3 columns]"
      ]
     },
     "execution_count": 41,
     "metadata": {},
     "output_type": "execute_result"
    }
   ],
   "source": [
    "monetary_table = payment.merge(order, on=\"order_id\").merge(customer, on=\"customer_id\")\n",
    "monetary_table = monetary_table.groupby('customer_unique_id').agg({'payment_value':'sum'}).reset_index()\n",
    "monetary_table['monetary_score'] = scoring(monetary_table['payment_value'])\n",
    "monetary_table"
   ]
  },
  {
   "cell_type": "markdown",
   "metadata": {},
   "source": [
    "#### 4) Combine All"
   ]
  },
  {
   "cell_type": "code",
   "execution_count": 48,
   "metadata": {},
   "outputs": [
    {
     "data": {
      "text/html": [
       "<div>\n",
       "<style scoped>\n",
       "    .dataframe tbody tr th:only-of-type {\n",
       "        vertical-align: middle;\n",
       "    }\n",
       "\n",
       "    .dataframe tbody tr th {\n",
       "        vertical-align: top;\n",
       "    }\n",
       "\n",
       "    .dataframe thead th {\n",
       "        text-align: right;\n",
       "    }\n",
       "</style>\n",
       "<table border=\"1\" class=\"dataframe\">\n",
       "  <thead>\n",
       "    <tr style=\"text-align: right;\">\n",
       "      <th></th>\n",
       "      <th>customer_unique_id</th>\n",
       "      <th>recency_score</th>\n",
       "      <th>frequency_monetary_score</th>\n",
       "      <th>segment</th>\n",
       "    </tr>\n",
       "  </thead>\n",
       "  <tbody>\n",
       "    <tr>\n",
       "      <th>0</th>\n",
       "      <td>00172711b30d52eea8b313a7f2cced02</td>\n",
       "      <td>1</td>\n",
       "      <td>5</td>\n",
       "      <td>Retention Priority</td>\n",
       "    </tr>\n",
       "    <tr>\n",
       "      <th>1</th>\n",
       "      <td>004288347e5e88a27ded2bb23747066c</td>\n",
       "      <td>3</td>\n",
       "      <td>3</td>\n",
       "      <td>Attention Required</td>\n",
       "    </tr>\n",
       "    <tr>\n",
       "      <th>2</th>\n",
       "      <td>004b45ec5c64187465168251cd1c9c2f</td>\n",
       "      <td>2</td>\n",
       "      <td>1</td>\n",
       "      <td>Dormant</td>\n",
       "    </tr>\n",
       "    <tr>\n",
       "      <th>3</th>\n",
       "      <td>0058f300f57d7b93c477a131a59b36c3</td>\n",
       "      <td>2</td>\n",
       "      <td>4</td>\n",
       "      <td>At Risk</td>\n",
       "    </tr>\n",
       "    <tr>\n",
       "      <th>4</th>\n",
       "      <td>00a39521eb40f7012db50455bf083460</td>\n",
       "      <td>1</td>\n",
       "      <td>4</td>\n",
       "      <td>At Risk</td>\n",
       "    </tr>\n",
       "    <tr>\n",
       "      <th>...</th>\n",
       "      <td>...</td>\n",
       "      <td>...</td>\n",
       "      <td>...</td>\n",
       "      <td>...</td>\n",
       "    </tr>\n",
       "    <tr>\n",
       "      <th>2117</th>\n",
       "      <td>ff03923ad1eb9e32304deb7f9b2a45c9</td>\n",
       "      <td>2</td>\n",
       "      <td>5</td>\n",
       "      <td>Retention Priority</td>\n",
       "    </tr>\n",
       "    <tr>\n",
       "      <th>2118</th>\n",
       "      <td>ff22e30958c13ffe219db7d711e8f564</td>\n",
       "      <td>1</td>\n",
       "      <td>5</td>\n",
       "      <td>Retention Priority</td>\n",
       "    </tr>\n",
       "    <tr>\n",
       "      <th>2119</th>\n",
       "      <td>ff36be26206fffe1eb37afd54c70e18b</td>\n",
       "      <td>1</td>\n",
       "      <td>5</td>\n",
       "      <td>Retention Priority</td>\n",
       "    </tr>\n",
       "    <tr>\n",
       "      <th>2120</th>\n",
       "      <td>ff8892f7c26aa0446da53d01b18df463</td>\n",
       "      <td>4</td>\n",
       "      <td>3</td>\n",
       "      <td>Growth Opportunity</td>\n",
       "    </tr>\n",
       "    <tr>\n",
       "      <th>2121</th>\n",
       "      <td>ff922bdd6bafcdf99cb90d7f39cea5b3</td>\n",
       "      <td>4</td>\n",
       "      <td>2</td>\n",
       "      <td>Growth Opportunity</td>\n",
       "    </tr>\n",
       "  </tbody>\n",
       "</table>\n",
       "<p>2122 rows × 4 columns</p>\n",
       "</div>"
      ],
      "text/plain": [
       "                    customer_unique_id  recency_score  \\\n",
       "0     00172711b30d52eea8b313a7f2cced02              1   \n",
       "1     004288347e5e88a27ded2bb23747066c              3   \n",
       "2     004b45ec5c64187465168251cd1c9c2f              2   \n",
       "3     0058f300f57d7b93c477a131a59b36c3              2   \n",
       "4     00a39521eb40f7012db50455bf083460              1   \n",
       "...                                ...            ...   \n",
       "2117  ff03923ad1eb9e32304deb7f9b2a45c9              2   \n",
       "2118  ff22e30958c13ffe219db7d711e8f564              1   \n",
       "2119  ff36be26206fffe1eb37afd54c70e18b              1   \n",
       "2120  ff8892f7c26aa0446da53d01b18df463              4   \n",
       "2121  ff922bdd6bafcdf99cb90d7f39cea5b3              4   \n",
       "\n",
       "      frequency_monetary_score             segment  \n",
       "0                            5  Retention Priority  \n",
       "1                            3  Attention Required  \n",
       "2                            1             Dormant  \n",
       "3                            4             At Risk  \n",
       "4                            4             At Risk  \n",
       "...                        ...                 ...  \n",
       "2117                         5  Retention Priority  \n",
       "2118                         5  Retention Priority  \n",
       "2119                         5  Retention Priority  \n",
       "2120                         3  Growth Opportunity  \n",
       "2121                         2  Growth Opportunity  \n",
       "\n",
       "[2122 rows x 4 columns]"
      ]
     },
     "execution_count": 48,
     "metadata": {},
     "output_type": "execute_result"
    }
   ],
   "source": [
    "# Merge recency, monetary, and frequency tables to create the final RFM table\n",
    "final_table = (\n",
    "    recency_table\n",
    "    .merge(monetary_table, on='customer_unique_id')\n",
    "    .merge(frequency_table, on='customer_unique_id')\n",
    ")\n",
    "\n",
    "# Select relevant columns for scoring and analysis\n",
    "final_table = final_table[['customer_unique_id', 'recency_score', 'frequency_score', 'monetary_score']]\n",
    "\n",
    "# Calculate a combined frequency and monetary score\n",
    "final_table['frequency_monetary_score'] = scoring(final_table['frequency_score'] + final_table['monetary_score'])\n",
    "\n",
    "# Retain only necessary columns for segmentation\n",
    "final_table = final_table[['customer_unique_id', 'recency_score', 'frequency_monetary_score']]\n",
    "\n",
    "# Define customer segments with professional naming\n",
    "segment_dict = {\n",
    "    # Dormant customers\n",
    "    (1, 1): \"Dormant\", (1, 2): \"Dormant\", (2, 1): \"Dormant\", (2, 2): \"Dormant\",\n",
    "    \n",
    "    # Low-Engagement customers\n",
    "    (3, 1): \"Low Engagement\", (3, 2): \"Low Engagement\",\n",
    "    \n",
    "    # Emerging customers\n",
    "    (4, 1): \"Emerging\", (5, 1): \"Emerging\",\n",
    "    \n",
    "    # Growth Opportunity customers\n",
    "    (4, 2): \"Growth Opportunity\", (4, 3): \"Growth Opportunity\", (5, 2): \"Growth Opportunity\", (5, 3): \"Growth Opportunity\",\n",
    "    \n",
    "    # Attention Required customers\n",
    "    (3, 3): \"Attention Required\",\n",
    "    \n",
    "    # At-Risk customers\n",
    "    (1, 3): \"At Risk\", (1, 4): \"At Risk\", (2, 3): \"At Risk\", (2, 4): \"At Risk\",\n",
    "    \n",
    "    # Retention Priority customers\n",
    "    (1, 5): \"Retention Priority\", (2, 5): \"Retention Priority\",\n",
    "    \n",
    "    # Loyal Advocates\n",
    "    (3, 4): \"Loyal Advocate\", (3, 5): \"Loyal Advocate\", (4, 4): \"Loyal Advocate\", (4, 5): \"Loyal Advocate\",\n",
    "    \n",
    "    # High-Value Champions\n",
    "    (5, 4): \"High-Value Champion\", (5, 5): \"High-Value Champion\"\n",
    "}\n",
    "\n",
    "# Assign customer segments based on scores using the predefined segmentation dictionary\n",
    "final_table['segment'] = final_table.apply(\n",
    "    lambda x: segment_dict[(x['recency_score'], x['frequency_monetary_score'])],\n",
    "    axis=1\n",
    ")\n",
    "\n",
    "# Display the final table\n",
    "final_table\n"
   ]
  },
  {
   "cell_type": "code",
   "execution_count": 49,
   "metadata": {},
   "outputs": [
    {
     "data": {
      "text/plain": [
       "segment\n",
       "Dormant                456\n",
       "At Risk                421\n",
       "Loyal Advocate         371\n",
       "Retention Priority     261\n",
       "Growth Opportunity     195\n",
       "High-Value Champion    161\n",
       "Low Engagement         122\n",
       "Attention Required      93\n",
       "Emerging                42\n",
       "Name: count, dtype: int64"
      ]
     },
     "execution_count": 49,
     "metadata": {},
     "output_type": "execute_result"
    }
   ],
   "source": [
    "final_data = final_table['segment'].value_counts()\n",
    "final_data"
   ]
  },
  {
   "cell_type": "code",
   "execution_count": 50,
   "metadata": {},
   "outputs": [
    {
     "data": {
      "text/plain": [
       "<BarContainer object of 9 artists>"
      ]
     },
     "execution_count": 50,
     "metadata": {},
     "output_type": "execute_result"
    },
    {
     "data": {
      "image/png": "[encoded data removed]",
      "text/plain": [
       "<Figure size 800x550 with 1 Axes>"
      ]
     },
     "metadata": {},
     "output_type": "display_data"
    }
   ],
   "source": [
    "fig, ax = plt.subplots()\n",
    "ax.barh(\n",
    "    y =  final_data.index, \n",
    "    width =  final_data.values\n",
    ")"
   ]
  },
  {
   "cell_type": "markdown",
   "metadata": {},
   "source": [
    "### Products That Are Frequently Bought Together"
   ]
  },
  {
   "cell_type": "code",
   "execution_count": 24,
   "metadata": {},
   "outputs": [],
   "source": [
    "product_frequency_table = order.merge(item, on=\"order_id\")[['order_id','product_id']]"
   ]
  },
  {
   "cell_type": "code",
   "execution_count": 25,
   "metadata": {},
   "outputs": [],
   "source": [
    "list_of_item_list = []\n",
    "for order_id, remaining_df in product_frequency_table.groupby('order_id'):\n",
    "    list_of_item_list.append(list(remaining_df.drop_duplicates(subset='product_id')['product_id'].values))\n",
    "list_of_item_list = [list_of_item for list_of_item in list_of_item_list if len(list_of_item) > 1]"
   ]
  },
  {
   "cell_type": "code",
   "execution_count": 26,
   "metadata": {},
   "outputs": [
    {
     "data": {
      "text/html": [
       "<div>\n",
       "<style scoped>\n",
       "    .dataframe tbody tr th:only-of-type {\n",
       "        vertical-align: middle;\n",
       "    }\n",
       "\n",
       "    .dataframe tbody tr th {\n",
       "        vertical-align: top;\n",
       "    }\n",
       "\n",
       "    .dataframe thead th {\n",
       "        text-align: right;\n",
       "    }\n",
       "</style>\n",
       "<table border=\"1\" class=\"dataframe\">\n",
       "  <thead>\n",
       "    <tr style=\"text-align: right;\">\n",
       "      <th></th>\n",
       "      <th>item_1</th>\n",
       "      <th>item_2</th>\n",
       "      <th>count</th>\n",
       "    </tr>\n",
       "  </thead>\n",
       "  <tbody>\n",
       "    <tr>\n",
       "      <th>110</th>\n",
       "      <td>e53e557d5a159f5aa2c5e995dfdf244b</td>\n",
       "      <td>36f60d45225e60c7da4558b070ce4b60</td>\n",
       "      <td>20</td>\n",
       "    </tr>\n",
       "    <tr>\n",
       "      <th>740</th>\n",
       "      <td>35afc973633aaeb6b877ff57b2793310</td>\n",
       "      <td>99a4788cb24856965c36a24e339b6058</td>\n",
       "      <td>15</td>\n",
       "    </tr>\n",
       "    <tr>\n",
       "      <th>200</th>\n",
       "      <td>36f60d45225e60c7da4558b070ce4b60</td>\n",
       "      <td>e53e557d5a159f5aa2c5e995dfdf244b</td>\n",
       "      <td>14</td>\n",
       "    </tr>\n",
       "    <tr>\n",
       "      <th>1552</th>\n",
       "      <td>99a4788cb24856965c36a24e339b6058</td>\n",
       "      <td>35afc973633aaeb6b877ff57b2793310</td>\n",
       "      <td>14</td>\n",
       "    </tr>\n",
       "    <tr>\n",
       "      <th>443</th>\n",
       "      <td>f4f67ccaece962d013a4e1d7dc3a61f7</td>\n",
       "      <td>4fcb3d9a5f4871e8362dfedbdb02b064</td>\n",
       "      <td>11</td>\n",
       "    </tr>\n",
       "    <tr>\n",
       "      <th>278</th>\n",
       "      <td>422879e10f46682990de24d770e7f83d</td>\n",
       "      <td>389d119b48cf3043d311335e499d9c6b</td>\n",
       "      <td>9</td>\n",
       "    </tr>\n",
       "    <tr>\n",
       "      <th>1010</th>\n",
       "      <td>3f14d740544f37ece8a9e7bc8349797e</td>\n",
       "      <td>36f60d45225e60c7da4558b070ce4b60</td>\n",
       "      <td>8</td>\n",
       "    </tr>\n",
       "    <tr>\n",
       "      <th>114</th>\n",
       "      <td>4fcb3d9a5f4871e8362dfedbdb02b064</td>\n",
       "      <td>f4f67ccaece962d013a4e1d7dc3a61f7</td>\n",
       "      <td>6</td>\n",
       "    </tr>\n",
       "    <tr>\n",
       "      <th>1021</th>\n",
       "      <td>422879e10f46682990de24d770e7f83d</td>\n",
       "      <td>53759a2ecddad2bb87a079a1f1519f73</td>\n",
       "      <td>5</td>\n",
       "    </tr>\n",
       "    <tr>\n",
       "      <th>1018</th>\n",
       "      <td>389d119b48cf3043d311335e499d9c6b</td>\n",
       "      <td>53759a2ecddad2bb87a079a1f1519f73</td>\n",
       "      <td>5</td>\n",
       "    </tr>\n",
       "  </tbody>\n",
       "</table>\n",
       "</div>"
      ],
      "text/plain": [
       "                                item_1                            item_2  \\\n",
       "110   e53e557d5a159f5aa2c5e995dfdf244b  36f60d45225e60c7da4558b070ce4b60   \n",
       "740   35afc973633aaeb6b877ff57b2793310  99a4788cb24856965c36a24e339b6058   \n",
       "200   36f60d45225e60c7da4558b070ce4b60  e53e557d5a159f5aa2c5e995dfdf244b   \n",
       "1552  99a4788cb24856965c36a24e339b6058  35afc973633aaeb6b877ff57b2793310   \n",
       "443   f4f67ccaece962d013a4e1d7dc3a61f7  4fcb3d9a5f4871e8362dfedbdb02b064   \n",
       "278   422879e10f46682990de24d770e7f83d  389d119b48cf3043d311335e499d9c6b   \n",
       "1010  3f14d740544f37ece8a9e7bc8349797e  36f60d45225e60c7da4558b070ce4b60   \n",
       "114   4fcb3d9a5f4871e8362dfedbdb02b064  f4f67ccaece962d013a4e1d7dc3a61f7   \n",
       "1021  422879e10f46682990de24d770e7f83d  53759a2ecddad2bb87a079a1f1519f73   \n",
       "1018  389d119b48cf3043d311335e499d9c6b  53759a2ecddad2bb87a079a1f1519f73   \n",
       "\n",
       "      count  \n",
       "110      20  \n",
       "740      15  \n",
       "200      14  \n",
       "1552     14  \n",
       "443      11  \n",
       "278       9  \n",
       "1010      8  \n",
       "114       6  \n",
       "1021      5  \n",
       "1018      5  "
      ]
     },
     "execution_count": 26,
     "metadata": {},
     "output_type": "execute_result"
    }
   ],
   "source": [
    "from itertools import combinations\n",
    "\n",
    "com_dict = {}\n",
    "for list_of_item in list_of_item_list:\n",
    "    for com in combinations(list_of_item,2):\n",
    "        if com in com_dict: com_dict[com] +=1\n",
    "        else: com_dict[com] = 1\n",
    "\n",
    "res_df = pd.DataFrame(pd.Series(com_dict)).reset_index().rename(columns={'level_0':'item_1', \"level_1\": \"item_2\", 0: \"count\"}).sort_values('count',ascending=False)\n",
    "top10 = res_df[:10]\n",
    "top10"
   ]
  },
  {
   "cell_type": "markdown",
   "metadata": {},
   "source": [
    "### Check for the seasonality"
   ]
  },
  {
   "cell_type": "code",
   "execution_count": 28,
   "metadata": {},
   "outputs": [],
   "source": [
    "order['order_purchase_timestamp'] = pd.to_datetime(order['order_purchase_timestamp'])\n",
    "# get the month 'order_purchase_timestamp'\n",
    "order['month'] = order['order_purchase_timestamp'].dt.strftime(\"%m\")\n",
    "# merge with payment\n",
    "seasonality_table = order.merge(payment, on='order_id')\n",
    "# groupby month, get sum payment_value\n",
    "seasonality_table = seasonality_table.groupby('month').agg({'payment_value':'mean'}).reset_index()"
   ]
  },
  {
   "cell_type": "code",
   "execution_count": 30,
   "metadata": {},
   "outputs": [
    {
     "data": {
      "image/png": "[encoded data removed]",
      "text/plain": [
       "<Figure size 1000x600 with 1 Axes>"
      ]
     },
     "metadata": {},
     "output_type": "display_data"
    }
   ],
   "source": [
    "# Visualize the monthly payment value trends\n",
    "fig, ax = plt.subplots(figsize=(10, 6))  # Set the size of the plot\n",
    "sns.set_theme(style='darkgrid')  # Apply a professional theme with gridlines for better readability\n",
    "\n",
    "# Plot the actual monthly payment values\n",
    "ax.plot(\n",
    "    seasonality_table['month'],\n",
    "    seasonality_table['payment_value'],\n",
    "    label=\"Monthly Payment Value\", color='b', marker='o', linestyle='-', linewidth=2\n",
    ")\n",
    "\n",
    "# Plot the average monthly payment value as a reference line\n",
    "ax.plot(\n",
    "    seasonality_table['month'],\n",
    "    [seasonality_table['payment_value'].mean()] * 12,\n",
    "    label=\"Average Payment Value\", color='r', linestyle='--', linewidth=2\n",
    ")\n",
    "\n",
    "# Add labels and title\n",
    "ax.set_title('Monthly Payment Value Trends', fontsize=14)\n",
    "ax.set_xlabel('Month', fontsize=12)\n",
    "ax.set_ylabel('Payment Value', fontsize=12)\n",
    "\n",
    "# Add a legend\n",
    "ax.legend()\n",
    "\n",
    "# Display the plot\n",
    "plt.tight_layout()\n",
    "plt.show()\n"
   ]
  },
  {
   "cell_type": "markdown",
   "metadata": {},
   "source": [
    "### Feedback Based Rating Predictions"
   ]
  },
  {
   "cell_type": "code",
   "execution_count": 61,
   "metadata": {},
   "outputs": [
    {
     "data": {
      "text/html": [
       "<div>\n",
       "<style scoped>\n",
       "    .dataframe tbody tr th:only-of-type {\n",
       "        vertical-align: middle;\n",
       "    }\n",
       "\n",
       "    .dataframe tbody tr th {\n",
       "        vertical-align: top;\n",
       "    }\n",
       "\n",
       "    .dataframe thead th {\n",
       "        text-align: right;\n",
       "    }\n",
       "</style>\n",
       "<table border=\"1\" class=\"dataframe\">\n",
       "  <thead>\n",
       "    <tr style=\"text-align: right;\">\n",
       "      <th></th>\n",
       "      <th>review_id</th>\n",
       "      <th>order_id</th>\n",
       "      <th>review_score</th>\n",
       "      <th>review_comment_title</th>\n",
       "      <th>review_comment_message</th>\n",
       "      <th>review_creation_date</th>\n",
       "      <th>review_answer_timestamp</th>\n",
       "    </tr>\n",
       "  </thead>\n",
       "  <tbody>\n",
       "    <tr>\n",
       "      <th>0</th>\n",
       "      <td>7bc2406110b926393aa56f80a40eba40</td>\n",
       "      <td>73fc7af87114b39712e6da79b0a377eb</td>\n",
       "      <td>4</td>\n",
       "      <td>NaN</td>\n",
       "      <td>NaN</td>\n",
       "      <td>2018-01-18 00:00:00</td>\n",
       "      <td>2018-01-18 21:46:59</td>\n",
       "    </tr>\n",
       "    <tr>\n",
       "      <th>1</th>\n",
       "      <td>80e641a11e56f04c1ad469d5645fdfde</td>\n",
       "      <td>a548910a1c6147796b98fdf73dbeba33</td>\n",
       "      <td>5</td>\n",
       "      <td>NaN</td>\n",
       "      <td>NaN</td>\n",
       "      <td>2018-03-10 00:00:00</td>\n",
       "      <td>2018-03-11 03:05:13</td>\n",
       "    </tr>\n",
       "    <tr>\n",
       "      <th>2</th>\n",
       "      <td>228ce5500dc1d8e020d8d1322874b6f0</td>\n",
       "      <td>f9e4b658b201a9f2ecdecbb34bed034b</td>\n",
       "      <td>5</td>\n",
       "      <td>NaN</td>\n",
       "      <td>NaN</td>\n",
       "      <td>2018-02-17 00:00:00</td>\n",
       "      <td>2018-02-18 14:36:24</td>\n",
       "    </tr>\n",
       "    <tr>\n",
       "      <th>3</th>\n",
       "      <td>e64fb393e7b32834bb789ff8bb30750e</td>\n",
       "      <td>658677c97b385a9be170737859d3511b</td>\n",
       "      <td>5</td>\n",
       "      <td>NaN</td>\n",
       "      <td>Recebi bem antes do prazo estipulado.</td>\n",
       "      <td>2017-04-21 00:00:00</td>\n",
       "      <td>2017-04-21 22:02:06</td>\n",
       "    </tr>\n",
       "    <tr>\n",
       "      <th>4</th>\n",
       "      <td>f7c4243c7fe1938f181bec41a392bdeb</td>\n",
       "      <td>8e6bfb81e283fa7e4f11123a3fb894f1</td>\n",
       "      <td>5</td>\n",
       "      <td>NaN</td>\n",
       "      <td>Parabéns lojas lannister adorei comprar pela I...</td>\n",
       "      <td>2018-03-01 00:00:00</td>\n",
       "      <td>2018-03-02 10:26:53</td>\n",
       "    </tr>\n",
       "  </tbody>\n",
       "</table>\n",
       "</div>"
      ],
      "text/plain": [
       "                          review_id                          order_id  \\\n",
       "0  7bc2406110b926393aa56f80a40eba40  73fc7af87114b39712e6da79b0a377eb   \n",
       "1  80e641a11e56f04c1ad469d5645fdfde  a548910a1c6147796b98fdf73dbeba33   \n",
       "2  228ce5500dc1d8e020d8d1322874b6f0  f9e4b658b201a9f2ecdecbb34bed034b   \n",
       "3  e64fb393e7b32834bb789ff8bb30750e  658677c97b385a9be170737859d3511b   \n",
       "4  f7c4243c7fe1938f181bec41a392bdeb  8e6bfb81e283fa7e4f11123a3fb894f1   \n",
       "\n",
       "   review_score review_comment_title  \\\n",
       "0             4                  NaN   \n",
       "1             5                  NaN   \n",
       "2             5                  NaN   \n",
       "3             5                  NaN   \n",
       "4             5                  NaN   \n",
       "\n",
       "                              review_comment_message review_creation_date  \\\n",
       "0                                                NaN  2018-01-18 00:00:00   \n",
       "1                                                NaN  2018-03-10 00:00:00   \n",
       "2                                                NaN  2018-02-17 00:00:00   \n",
       "3              Recebi bem antes do prazo estipulado.  2017-04-21 00:00:00   \n",
       "4  Parabéns lojas lannister adorei comprar pela I...  2018-03-01 00:00:00   \n",
       "\n",
       "  review_answer_timestamp  \n",
       "0     2018-01-18 21:46:59  \n",
       "1     2018-03-11 03:05:13  \n",
       "2     2018-02-18 14:36:24  \n",
       "3     2017-04-21 22:02:06  \n",
       "4     2018-03-02 10:26:53  "
      ]
     },
     "execution_count": 61,
     "metadata": {},
     "output_type": "execute_result"
    }
   ],
   "source": [
    "review.head()"
   ]
  },
  {
   "cell_type": "markdown",
   "metadata": {},
   "source": [
    "#### Binary-Labeled Data Preprocessing"
   ]
  },
  {
   "cell_type": "code",
   "execution_count": 16,
   "metadata": {},
   "outputs": [],
   "source": [
    "def preprocess_binary_labels(data, column_text='review_comment_message', \n",
    "                             column_score='review_score', \n",
    "                             points_cut=[0, 2, 5], \n",
    "                             classes=[0, 1]):\n",
    "    # Drop rows with missing text\n",
    "    df_bin = data.dropna(subset=[column_text])\n",
    "    \n",
    "    # Bin the scores and assign binary labels\n",
    "    df_bin['label'] = pd.cut(df_bin[column_score], bins=points_cut, labels=classes)\n",
    "    \n",
    "    # Rename and retain necessary columns\n",
    "    df_bin = df_bin.rename(columns={column_text: 'text'})\n",
    "    df_bin = df_bin[['text', 'label']]\n",
    "    \n",
    "    return df_bin"
   ]
  },
  {
   "cell_type": "markdown",
   "metadata": {},
   "source": [
    "#### Categorical-Labeled Data Preprocessing"
   ]
  },
  {
   "cell_type": "code",
   "execution_count": 17,
   "metadata": {},
   "outputs": [],
   "source": [
    "def preprocess_categorical_labels(data, column_text='review_comment_message', \n",
    "                                  column_score='review_score'):\n",
    "    # Drop rows with missing text\n",
    "    df_cat = data.dropna(subset=[column_text])\n",
    "    \n",
    "    # Rename columns and retain necessary columns\n",
    "    df_cat = df_cat.rename(columns={column_text: 'text', column_score: 'label'})\n",
    "    df_cat = df_cat[['text', 'label']]\n",
    "    \n",
    "    return df_cat"
   ]
  },
  {
   "cell_type": "code",
   "execution_count": 18,
   "metadata": {},
   "outputs": [],
   "source": [
    "# Binary dataset\n",
    "data_bin = preprocess_binary_labels(review)\n",
    "\n",
    "# Categorical dataset\n",
    "df_cat = preprocess_categorical_labels(review)"
   ]
  },
  {
   "cell_type": "code",
   "execution_count": 19,
   "metadata": {},
   "outputs": [
    {
     "data": {
      "application/vnd.plotly.v1+json": {
       "config": {
        "plotlyServerURL": "https://plot.ly"
       },
       "data": [
        {
         "alignmentgroup": "True",
         "hovertemplate": "x=%{x}<br>y=%{y}<br>color=%{marker.color}<extra></extra>",
         "legendgroup": "",
         "marker": {
          "color": [
           1,
           2,
           3,
           4,
           5
          ],
          "coloraxis": "coloraxis",
          "pattern": {
           "shape": ""
          }
         },
         "name": "",
         "offsetgroup": "",
         "orientation": "v",
         "showlegend": false,
         "textposition": "auto",
         "type": "bar",
         "x": [
          1,
          2,
          3,
          4,
          5
         ],
         "xaxis": "x",
         "y": [
          8745,
          2145,
          3557,
          5976,
          20554
         ],
         "yaxis": "y"
        }
       ],
       "layout": {
        "barmode": "relative",
        "coloraxis": {
         "colorbar": {
          "title": {
           "text": "color"
          }
         },
         "colorscale": [
          [
           0,
           "#440154"
          ],
          [
           0.1111111111111111,
           "#482878"
          ],
          [
           0.2222222222222222,
           "#3e4989"
          ],
          [
           0.3333333333333333,
           "#31688e"
          ],
          [
           0.4444444444444444,
           "#26828e"
          ],
          [
           0.5555555555555556,
           "#1f9e89"
          ],
          [
           0.6666666666666666,
           "#35b779"
          ],
          [
           0.7777777777777778,
           "#6ece58"
          ],
          [
           0.8888888888888888,
           "#b5de2b"
          ],
          [
           1,
           "#fde725"
          ]
         ]
        },
        "legend": {
         "tracegroupgap": 0
        },
        "margin": {
         "t": 60
        },
        "showlegend": true,
        "template": {
         "data": {
          "bar": [
           {
            "error_x": {
             "color": "#2a3f5f"
            },
            "error_y": {
             "color": "#2a3f5f"
            },
            "marker": {
             "line": {
              "color": "#E5ECF6",
              "width": 0.5
             },
             "pattern": {
              "fillmode": "overlay",
              "size": 10,
              "solidity": 0.2
             }
            },
            "type": "bar"
           }
          ],
          "barpolar": [
           {
            "marker": {
             "line": {
              "color": "#E5ECF6",
              "width": 0.5
             },
             "pattern": {
              "fillmode": "overlay",
              "size": 10,
              "solidity": 0.2
             }
            },
            "type": "barpolar"
           }
          ],
          "carpet": [
           {
            "aaxis": {
             "endlinecolor": "#2a3f5f",
             "gridcolor": "white",
             "linecolor": "white",
             "minorgridcolor": "white",
             "startlinecolor": "#2a3f5f"
            },
            "baxis": {
             "endlinecolor": "#2a3f5f",
             "gridcolor": "white",
             "linecolor": "white",
             "minorgridcolor": "white",
             "startlinecolor": "#2a3f5f"
            },
            "type": "carpet"
           }
          ],
          "choropleth": [
           {
            "colorbar": {
             "outlinewidth": 0,
             "ticks": ""
            },
            "type": "choropleth"
           }
          ],
          "contour": [
           {
            "colorbar": {
             "outlinewidth": 0,
             "ticks": ""
            },
            "colorscale": [
             [
              0,
              "#0d0887"
             ],
             [
              0.1111111111111111,
              "#46039f"
             ],
             [
              0.2222222222222222,
              "#7201a8"
             ],
             [
              0.3333333333333333,
              "#9c179e"
             ],
             [
              0.4444444444444444,
              "#bd3786"
             ],
             [
              0.5555555555555556,
              "#d8576b"
             ],
             [
              0.6666666666666666,
              "#ed7953"
             ],
             [
              0.7777777777777778,
              "#fb9f3a"
             ],
             [
              0.8888888888888888,
              "#fdca26"
             ],
             [
              1,
              "#f0f921"
             ]
            ],
            "type": "contour"
           }
          ],
          "contourcarpet": [
           {
            "colorbar": {
             "outlinewidth": 0,
             "ticks": ""
            },
            "type": "contourcarpet"
           }
          ],
          "heatmap": [
           {
            "colorbar": {
             "outlinewidth": 0,
             "ticks": ""
            },
            "colorscale": [
             [
              0,
              "#0d0887"
             ],
             [
              0.1111111111111111,
              "#46039f"
             ],
             [
              0.2222222222222222,
              "#7201a8"
             ],
             [
              0.3333333333333333,
              "#9c179e"
             ],
             [
              0.4444444444444444,
              "#bd3786"
             ],
             [
              0.5555555555555556,
              "#d8576b"
             ],
             [
              0.6666666666666666,
              "#ed7953"
             ],
             [
              0.7777777777777778,
              "#fb9f3a"
             ],
             [
              0.8888888888888888,
              "#fdca26"
             ],
             [
              1,
              "#f0f921"
             ]
            ],
            "type": "heatmap"
           }
          ],
          "heatmapgl": [
           {
            "colorbar": {
             "outlinewidth": 0,
             "ticks": ""
            },
            "colorscale": [
             [
              0,
              "#0d0887"
             ],
             [
              0.1111111111111111,
              "#46039f"
             ],
             [
              0.2222222222222222,
              "#7201a8"
             ],
             [
              0.3333333333333333,
              "#9c179e"
             ],
             [
              0.4444444444444444,
              "#bd3786"
             ],
             [
              0.5555555555555556,
              "#d8576b"
             ],
             [
              0.6666666666666666,
              "#ed7953"
             ],
             [
              0.7777777777777778,
              "#fb9f3a"
             ],
             [
              0.8888888888888888,
              "#fdca26"
             ],
             [
              1,
              "#f0f921"
             ]
            ],
            "type": "heatmapgl"
           }
          ],
          "histogram": [
           {
            "marker": {
             "pattern": {
              "fillmode": "overlay",
              "size": 10,
              "solidity": 0.2
             }
            },
            "type": "histogram"
           }
          ],
          "histogram2d": [
           {
            "colorbar": {
             "outlinewidth": 0,
             "ticks": ""
            },
            "colorscale": [
             [
              0,
              "#0d0887"
             ],
             [
              0.1111111111111111,
              "#46039f"
             ],
             [
              0.2222222222222222,
              "#7201a8"
             ],
             [
              0.3333333333333333,
              "#9c179e"
             ],
             [
              0.4444444444444444,
              "#bd3786"
             ],
             [
              0.5555555555555556,
              "#d8576b"
             ],
             [
              0.6666666666666666,
              "#ed7953"
             ],
             [
              0.7777777777777778,
              "#fb9f3a"
             ],
             [
              0.8888888888888888,
              "#fdca26"
             ],
             [
              1,
              "#f0f921"
             ]
            ],
            "type": "histogram2d"
           }
          ],
          "histogram2dcontour": [
           {
            "colorbar": {
             "outlinewidth": 0,
             "ticks": ""
            },
            "colorscale": [
             [
              0,
              "#0d0887"
             ],
             [
              0.1111111111111111,
              "#46039f"
             ],
             [
              0.2222222222222222,
              "#7201a8"
             ],
             [
              0.3333333333333333,
              "#9c179e"
             ],
             [
              0.4444444444444444,
              "#bd3786"
             ],
             [
              0.5555555555555556,
              "#d8576b"
             ],
             [
              0.6666666666666666,
              "#ed7953"
             ],
             [
              0.7777777777777778,
              "#fb9f3a"
             ],
             [
              0.8888888888888888,
              "#fdca26"
             ],
             [
              1,
              "#f0f921"
             ]
            ],
            "type": "histogram2dcontour"
           }
          ],
          "mesh3d": [
           {
            "colorbar": {
             "outlinewidth": 0,
             "ticks": ""
            },
            "type": "mesh3d"
           }
          ],
          "parcoords": [
           {
            "line": {
             "colorbar": {
              "outlinewidth": 0,
              "ticks": ""
             }
            },
            "type": "parcoords"
           }
          ],
          "pie": [
           {
            "automargin": true,
            "type": "pie"
           }
          ],
          "scatter": [
           {
            "fillpattern": {
             "fillmode": "overlay",
             "size": 10,
             "solidity": 0.2
            },
            "type": "scatter"
           }
          ],
          "scatter3d": [
           {
            "line": {
             "colorbar": {
              "outlinewidth": 0,
              "ticks": ""
             }
            },
            "marker": {
             "colorbar": {
              "outlinewidth": 0,
              "ticks": ""
             }
            },
            "type": "scatter3d"
           }
          ],
          "scattercarpet": [
           {
            "marker": {
             "colorbar": {
              "outlinewidth": 0,
              "ticks": ""
             }
            },
            "type": "scattercarpet"
           }
          ],
          "scattergeo": [
           {
            "marker": {
             "colorbar": {
              "outlinewidth": 0,
              "ticks": ""
             }
            },
            "type": "scattergeo"
           }
          ],
          "scattergl": [
           {
            "marker": {
             "colorbar": {
              "outlinewidth": 0,
              "ticks": ""
             }
            },
            "type": "scattergl"
           }
          ],
          "scattermapbox": [
           {
            "marker": {
             "colorbar": {
              "outlinewidth": 0,
              "ticks": ""
             }
            },
            "type": "scattermapbox"
           }
          ],
          "scatterpolar": [
           {
            "marker": {
             "colorbar": {
              "outlinewidth": 0,
              "ticks": ""
             }
            },
            "type": "scatterpolar"
           }
          ],
          "scatterpolargl": [
           {
            "marker": {
             "colorbar": {
              "outlinewidth": 0,
              "ticks": ""
             }
            },
            "type": "scatterpolargl"
           }
          ],
          "scatterternary": [
           {
            "marker": {
             "colorbar": {
              "outlinewidth": 0,
              "ticks": ""
             }
            },
            "type": "scatterternary"
           }
          ],
          "surface": [
           {
            "colorbar": {
             "outlinewidth": 0,
             "ticks": ""
            },
            "colorscale": [
             [
              0,
              "#0d0887"
             ],
             [
              0.1111111111111111,
              "#46039f"
             ],
             [
              0.2222222222222222,
              "#7201a8"
             ],
             [
              0.3333333333333333,
              "#9c179e"
             ],
             [
              0.4444444444444444,
              "#bd3786"
             ],
             [
              0.5555555555555556,
              "#d8576b"
             ],
             [
              0.6666666666666666,
              "#ed7953"
             ],
             [
              0.7777777777777778,
              "#fb9f3a"
             ],
             [
              0.8888888888888888,
              "#fdca26"
             ],
             [
              1,
              "#f0f921"
             ]
            ],
            "type": "surface"
           }
          ],
          "table": [
           {
            "cells": {
             "fill": {
              "color": "#EBF0F8"
             },
             "line": {
              "color": "white"
             }
            },
            "header": {
             "fill": {
              "color": "#C8D4E3"
             },
             "line": {
              "color": "white"
             }
            },
            "type": "table"
           }
          ]
         },
         "layout": {
          "annotationdefaults": {
           "arrowcolor": "#2a3f5f",
           "arrowhead": 0,
           "arrowwidth": 1
          },
          "autotypenumbers": "strict",
          "coloraxis": {
           "colorbar": {
            "outlinewidth": 0,
            "ticks": ""
           }
          },
          "colorscale": {
           "diverging": [
            [
             0,
             "#8e0152"
            ],
            [
             0.1,
             "#c51b7d"
            ],
            [
             0.2,
             "#de77ae"
            ],
            [
             0.3,
             "#f1b6da"
            ],
            [
             0.4,
             "#fde0ef"
            ],
            [
             0.5,
             "#f7f7f7"
            ],
            [
             0.6,
             "#e6f5d0"
            ],
            [
             0.7,
             "#b8e186"
            ],
            [
             0.8,
             "#7fbc41"
            ],
            [
             0.9,
             "#4d9221"
            ],
            [
             1,
             "#276419"
            ]
           ],
           "sequential": [
            [
             0,
             "#0d0887"
            ],
            [
             0.1111111111111111,
             "#46039f"
            ],
            [
             0.2222222222222222,
             "#7201a8"
            ],
            [
             0.3333333333333333,
             "#9c179e"
            ],
            [
             0.4444444444444444,
             "#bd3786"
            ],
            [
             0.5555555555555556,
             "#d8576b"
            ],
            [
             0.6666666666666666,
             "#ed7953"
            ],
            [
             0.7777777777777778,
             "#fb9f3a"
            ],
            [
             0.8888888888888888,
             "#fdca26"
            ],
            [
             1,
             "#f0f921"
            ]
           ],
           "sequentialminus": [
            [
             0,
             "#0d0887"
            ],
            [
             0.1111111111111111,
             "#46039f"
            ],
            [
             0.2222222222222222,
             "#7201a8"
            ],
            [
             0.3333333333333333,
             "#9c179e"
            ],
            [
             0.4444444444444444,
             "#bd3786"
            ],
            [
             0.5555555555555556,
             "#d8576b"
            ],
            [
             0.6666666666666666,
             "#ed7953"
            ],
            [
             0.7777777777777778,
             "#fb9f3a"
            ],
            [
             0.8888888888888888,
             "#fdca26"
            ],
            [
             1,
             "#f0f921"
            ]
           ]
          },
          "colorway": [
           "#636efa",
           "#EF553B",
           "#00cc96",
           "#ab63fa",
           "#FFA15A",
           "#19d3f3",
           "#FF6692",
           "#B6E880",
           "#FF97FF",
           "#FECB52"
          ],
          "font": {
           "color": "#2a3f5f"
          },
          "geo": {
           "bgcolor": "white",
           "lakecolor": "white",
           "landcolor": "#E5ECF6",
           "showlakes": true,
           "showland": true,
           "subunitcolor": "white"
          },
          "hoverlabel": {
           "align": "left"
          },
          "hovermode": "closest",
          "mapbox": {
           "style": "light"
          },
          "paper_bgcolor": "white",
          "plot_bgcolor": "#E5ECF6",
          "polar": {
           "angularaxis": {
            "gridcolor": "white",
            "linecolor": "white",
            "ticks": ""
           },
           "bgcolor": "#E5ECF6",
           "radialaxis": {
            "gridcolor": "white",
            "linecolor": "white",
            "ticks": ""
           }
          },
          "scene": {
           "xaxis": {
            "backgroundcolor": "#E5ECF6",
            "gridcolor": "white",
            "gridwidth": 2,
            "linecolor": "white",
            "showbackground": true,
            "ticks": "",
            "zerolinecolor": "white"
           },
           "yaxis": {
            "backgroundcolor": "#E5ECF6",
            "gridcolor": "white",
            "gridwidth": 2,
            "linecolor": "white",
            "showbackground": true,
            "ticks": "",
            "zerolinecolor": "white"
           },
           "zaxis": {
            "backgroundcolor": "#E5ECF6",
            "gridcolor": "white",
            "gridwidth": 2,
            "linecolor": "white",
            "showbackground": true,
            "ticks": "",
            "zerolinecolor": "white"
           }
          },
          "shapedefaults": {
           "line": {
            "color": "#2a3f5f"
           }
          },
          "ternary": {
           "aaxis": {
            "gridcolor": "white",
            "linecolor": "white",
            "ticks": ""
           },
           "baxis": {
            "gridcolor": "white",
            "linecolor": "white",
            "ticks": ""
           },
           "bgcolor": "#E5ECF6",
           "caxis": {
            "gridcolor": "white",
            "linecolor": "white",
            "ticks": ""
           }
          },
          "title": {
           "x": 0.05
          },
          "xaxis": {
           "automargin": true,
           "gridcolor": "white",
           "linecolor": "white",
           "ticks": "",
           "title": {
            "standoff": 15
           },
           "zerolinecolor": "white",
           "zerolinewidth": 2
          },
          "yaxis": {
           "automargin": true,
           "gridcolor": "white",
           "linecolor": "white",
           "ticks": "",
           "title": {
            "standoff": 15
           },
           "zerolinecolor": "white",
           "zerolinewidth": 2
          }
         }
        },
        "title": {
         "text": "Rating vs Number of Reviews",
         "x": 0.5,
         "xanchor": "center",
         "y": 0.95,
         "yanchor": "top"
        },
        "xaxis": {
         "anchor": "y",
         "domain": [
          0,
          1
         ],
         "title": {
          "text": "Ratings"
         }
        },
        "yaxis": {
         "anchor": "x",
         "domain": [
          0,
          1
         ],
         "title": {
          "text": "Number of Reviews"
         }
        }
       }
      }
     },
     "metadata": {},
     "output_type": "display_data"
    }
   ],
   "source": [
    "import plotly.express as px\n",
    "import numpy as np\n",
    "\n",
    "# Assuming `df_cat` is the categorical-labeled data returned from preprocess_categorical_labels\n",
    "# If you're using the binary-labeled data, replace `df_cat` with the binary dataset (df_bin).\n",
    "\n",
    "# Count occurrences of each label in the categorical dataset\n",
    "label_counts = df_cat['label'].value_counts().sort_index()\n",
    "\n",
    "# Create a bar plot using Plotly\n",
    "fig = px.bar(\n",
    "    x=label_counts.index,  # Categories in 'label'\n",
    "    y=label_counts.values,  # Corresponding counts\n",
    "    color=label_counts.index,  # Use the label as the color\n",
    "    color_continuous_scale=\"Viridis\"  # Color scheme\n",
    ")\n",
    "\n",
    "# Update axis labels and title\n",
    "fig.update_xaxes(title=\"Ratings\")\n",
    "fig.update_yaxes(title=\"Number of Reviews\")\n",
    "fig.update_layout(\n",
    "    showlegend=True,\n",
    "    title={\n",
    "        'text': 'Rating vs Number of Reviews',\n",
    "        'y': 0.95,\n",
    "        'x': 0.5,\n",
    "        'xanchor': 'center',\n",
    "        'yanchor': 'top'\n",
    "    }\n",
    ")\n",
    "\n",
    "# Show the plot\n",
    "fig.show()\n"
   ]
  },
  {
   "cell_type": "code",
   "execution_count": 20,
   "metadata": {},
   "outputs": [
    {
     "data": {
      "application/vnd.plotly.v1+json": {
       "config": {
        "plotlyServerURL": "https://plot.ly"
       },
       "data": [
        {
         "alignmentgroup": "True",
         "hovertemplate": "color=0<br>x=%{x}<br>y=%{y}<extra></extra>",
         "legendgroup": "0",
         "marker": {
          "color": "#636efa",
          "pattern": {
           "shape": ""
          }
         },
         "name": "0",
         "offsetgroup": "0",
         "orientation": "v",
         "showlegend": true,
         "textposition": "auto",
         "type": "bar",
         "x": [
          0
         ],
         "xaxis": "x",
         "y": [
          10890
         ],
         "yaxis": "y"
        },
        {
         "alignmentgroup": "True",
         "hovertemplate": "color=1<br>x=%{x}<br>y=%{y}<extra></extra>",
         "legendgroup": "1",
         "marker": {
          "color": "#EF553B",
          "pattern": {
           "shape": ""
          }
         },
         "name": "1",
         "offsetgroup": "1",
         "orientation": "v",
         "showlegend": true,
         "textposition": "auto",
         "type": "bar",
         "x": [
          1
         ],
         "xaxis": "x",
         "y": [
          30087
         ],
         "yaxis": "y"
        }
       ],
       "layout": {
        "barmode": "relative",
        "legend": {
         "title": {
          "text": "color"
         },
         "tracegroupgap": 0
        },
        "margin": {
         "t": 60
        },
        "showlegend": true,
        "template": {
         "data": {
          "bar": [
           {
            "error_x": {
             "color": "#2a3f5f"
            },
            "error_y": {
             "color": "#2a3f5f"
            },
            "marker": {
             "line": {
              "color": "#E5ECF6",
              "width": 0.5
             },
             "pattern": {
              "fillmode": "overlay",
              "size": 10,
              "solidity": 0.2
             }
            },
            "type": "bar"
           }
          ],
          "barpolar": [
           {
            "marker": {
             "line": {
              "color": "#E5ECF6",
              "width": 0.5
             },
             "pattern": {
              "fillmode": "overlay",
              "size": 10,
              "solidity": 0.2
             }
            },
            "type": "barpolar"
           }
          ],
          "carpet": [
           {
            "aaxis": {
             "endlinecolor": "#2a3f5f",
             "gridcolor": "white",
             "linecolor": "white",
             "minorgridcolor": "white",
             "startlinecolor": "#2a3f5f"
            },
            "baxis": {
             "endlinecolor": "#2a3f5f",
             "gridcolor": "white",
             "linecolor": "white",
             "minorgridcolor": "white",
             "startlinecolor": "#2a3f5f"
            },
            "type": "carpet"
           }
          ],
          "choropleth": [
           {
            "colorbar": {
             "outlinewidth": 0,
             "ticks": ""
            },
            "type": "choropleth"
           }
          ],
          "contour": [
           {
            "colorbar": {
             "outlinewidth": 0,
             "ticks": ""
            },
            "colorscale": [
             [
              0,
              "#0d0887"
             ],
             [
              0.1111111111111111,
              "#46039f"
             ],
             [
              0.2222222222222222,
              "#7201a8"
             ],
             [
              0.3333333333333333,
              "#9c179e"
             ],
             [
              0.4444444444444444,
              "#bd3786"
             ],
             [
              0.5555555555555556,
              "#d8576b"
             ],
             [
              0.6666666666666666,
              "#ed7953"
             ],
             [
              0.7777777777777778,
              "#fb9f3a"
             ],
             [
              0.8888888888888888,
              "#fdca26"
             ],
             [
              1,
              "#f0f921"
             ]
            ],
            "type": "contour"
           }
          ],
          "contourcarpet": [
           {
            "colorbar": {
             "outlinewidth": 0,
             "ticks": ""
            },
            "type": "contourcarpet"
           }
          ],
          "heatmap": [
           {
            "colorbar": {
             "outlinewidth": 0,
             "ticks": ""
            },
            "colorscale": [
             [
              0,
              "#0d0887"
             ],
             [
              0.1111111111111111,
              "#46039f"
             ],
             [
              0.2222222222222222,
              "#7201a8"
             ],
             [
              0.3333333333333333,
              "#9c179e"
             ],
             [
              0.4444444444444444,
              "#bd3786"
             ],
             [
              0.5555555555555556,
              "#d8576b"
             ],
             [
              0.6666666666666666,
              "#ed7953"
             ],
             [
              0.7777777777777778,
              "#fb9f3a"
             ],
             [
              0.8888888888888888,
              "#fdca26"
             ],
             [
              1,
              "#f0f921"
             ]
            ],
            "type": "heatmap"
           }
          ],
          "heatmapgl": [
           {
            "colorbar": {
             "outlinewidth": 0,
             "ticks": ""
            },
            "colorscale": [
             [
              0,
              "#0d0887"
             ],
             [
              0.1111111111111111,
              "#46039f"
             ],
             [
              0.2222222222222222,
              "#7201a8"
             ],
             [
              0.3333333333333333,
              "#9c179e"
             ],
             [
              0.4444444444444444,
              "#bd3786"
             ],
             [
              0.5555555555555556,
              "#d8576b"
             ],
             [
              0.6666666666666666,
              "#ed7953"
             ],
             [
              0.7777777777777778,
              "#fb9f3a"
             ],
             [
              0.8888888888888888,
              "#fdca26"
             ],
             [
              1,
              "#f0f921"
             ]
            ],
            "type": "heatmapgl"
           }
          ],
          "histogram": [
           {
            "marker": {
             "pattern": {
              "fillmode": "overlay",
              "size": 10,
              "solidity": 0.2
             }
            },
            "type": "histogram"
           }
          ],
          "histogram2d": [
           {
            "colorbar": {
             "outlinewidth": 0,
             "ticks": ""
            },
            "colorscale": [
             [
              0,
              "#0d0887"
             ],
             [
              0.1111111111111111,
              "#46039f"
             ],
             [
              0.2222222222222222,
              "#7201a8"
             ],
             [
              0.3333333333333333,
              "#9c179e"
             ],
             [
              0.4444444444444444,
              "#bd3786"
             ],
             [
              0.5555555555555556,
              "#d8576b"
             ],
             [
              0.6666666666666666,
              "#ed7953"
             ],
             [
              0.7777777777777778,
              "#fb9f3a"
             ],
             [
              0.8888888888888888,
              "#fdca26"
             ],
             [
              1,
              "#f0f921"
             ]
            ],
            "type": "histogram2d"
           }
          ],
          "histogram2dcontour": [
           {
            "colorbar": {
             "outlinewidth": 0,
             "ticks": ""
            },
            "colorscale": [
             [
              0,
              "#0d0887"
             ],
             [
              0.1111111111111111,
              "#46039f"
             ],
             [
              0.2222222222222222,
              "#7201a8"
             ],
             [
              0.3333333333333333,
              "#9c179e"
             ],
             [
              0.4444444444444444,
              "#bd3786"
             ],
             [
              0.5555555555555556,
              "#d8576b"
             ],
             [
              0.6666666666666666,
              "#ed7953"
             ],
             [
              0.7777777777777778,
              "#fb9f3a"
             ],
             [
              0.8888888888888888,
              "#fdca26"
             ],
             [
              1,
              "#f0f921"
             ]
            ],
            "type": "histogram2dcontour"
           }
          ],
          "mesh3d": [
           {
            "colorbar": {
             "outlinewidth": 0,
             "ticks": ""
            },
            "type": "mesh3d"
           }
          ],
          "parcoords": [
           {
            "line": {
             "colorbar": {
              "outlinewidth": 0,
              "ticks": ""
             }
            },
            "type": "parcoords"
           }
          ],
          "pie": [
           {
            "automargin": true,
            "type": "pie"
           }
          ],
          "scatter": [
           {
            "fillpattern": {
             "fillmode": "overlay",
             "size": 10,
             "solidity": 0.2
            },
            "type": "scatter"
           }
          ],
          "scatter3d": [
           {
            "line": {
             "colorbar": {
              "outlinewidth": 0,
              "ticks": ""
             }
            },
            "marker": {
             "colorbar": {
              "outlinewidth": 0,
              "ticks": ""
             }
            },
            "type": "scatter3d"
           }
          ],
          "scattercarpet": [
           {
            "marker": {
             "colorbar": {
              "outlinewidth": 0,
              "ticks": ""
             }
            },
            "type": "scattercarpet"
           }
          ],
          "scattergeo": [
           {
            "marker": {
             "colorbar": {
              "outlinewidth": 0,
              "ticks": ""
             }
            },
            "type": "scattergeo"
           }
          ],
          "scattergl": [
           {
            "marker": {
             "colorbar": {
              "outlinewidth": 0,
              "ticks": ""
             }
            },
            "type": "scattergl"
           }
          ],
          "scattermapbox": [
           {
            "marker": {
             "colorbar": {
              "outlinewidth": 0,
              "ticks": ""
             }
            },
            "type": "scattermapbox"
           }
          ],
          "scatterpolar": [
           {
            "marker": {
             "colorbar": {
              "outlinewidth": 0,
              "ticks": ""
             }
            },
            "type": "scatterpolar"
           }
          ],
          "scatterpolargl": [
           {
            "marker": {
             "colorbar": {
              "outlinewidth": 0,
              "ticks": ""
             }
            },
            "type": "scatterpolargl"
           }
          ],
          "scatterternary": [
           {
            "marker": {
             "colorbar": {
              "outlinewidth": 0,
              "ticks": ""
             }
            },
            "type": "scatterternary"
           }
          ],
          "surface": [
           {
            "colorbar": {
             "outlinewidth": 0,
             "ticks": ""
            },
            "colorscale": [
             [
              0,
              "#0d0887"
             ],
             [
              0.1111111111111111,
              "#46039f"
             ],
             [
              0.2222222222222222,
              "#7201a8"
             ],
             [
              0.3333333333333333,
              "#9c179e"
             ],
             [
              0.4444444444444444,
              "#bd3786"
             ],
             [
              0.5555555555555556,
              "#d8576b"
             ],
             [
              0.6666666666666666,
              "#ed7953"
             ],
             [
              0.7777777777777778,
              "#fb9f3a"
             ],
             [
              0.8888888888888888,
              "#fdca26"
             ],
             [
              1,
              "#f0f921"
             ]
            ],
            "type": "surface"
           }
          ],
          "table": [
           {
            "cells": {
             "fill": {
              "color": "#EBF0F8"
             },
             "line": {
              "color": "white"
             }
            },
            "header": {
             "fill": {
              "color": "#C8D4E3"
             },
             "line": {
              "color": "white"
             }
            },
            "type": "table"
           }
          ]
         },
         "layout": {
          "annotationdefaults": {
           "arrowcolor": "#2a3f5f",
           "arrowhead": 0,
           "arrowwidth": 1
          },
          "autotypenumbers": "strict",
          "coloraxis": {
           "colorbar": {
            "outlinewidth": 0,
            "ticks": ""
           }
          },
          "colorscale": {
           "diverging": [
            [
             0,
             "#8e0152"
            ],
            [
             0.1,
             "#c51b7d"
            ],
            [
             0.2,
             "#de77ae"
            ],
            [
             0.3,
             "#f1b6da"
            ],
            [
             0.4,
             "#fde0ef"
            ],
            [
             0.5,
             "#f7f7f7"
            ],
            [
             0.6,
             "#e6f5d0"
            ],
            [
             0.7,
             "#b8e186"
            ],
            [
             0.8,
             "#7fbc41"
            ],
            [
             0.9,
             "#4d9221"
            ],
            [
             1,
             "#276419"
            ]
           ],
           "sequential": [
            [
             0,
             "#0d0887"
            ],
            [
             0.1111111111111111,
             "#46039f"
            ],
            [
             0.2222222222222222,
             "#7201a8"
            ],
            [
             0.3333333333333333,
             "#9c179e"
            ],
            [
             0.4444444444444444,
             "#bd3786"
            ],
            [
             0.5555555555555556,
             "#d8576b"
            ],
            [
             0.6666666666666666,
             "#ed7953"
            ],
            [
             0.7777777777777778,
             "#fb9f3a"
            ],
            [
             0.8888888888888888,
             "#fdca26"
            ],
            [
             1,
             "#f0f921"
            ]
           ],
           "sequentialminus": [
            [
             0,
             "#0d0887"
            ],
            [
             0.1111111111111111,
             "#46039f"
            ],
            [
             0.2222222222222222,
             "#7201a8"
            ],
            [
             0.3333333333333333,
             "#9c179e"
            ],
            [
             0.4444444444444444,
             "#bd3786"
            ],
            [
             0.5555555555555556,
             "#d8576b"
            ],
            [
             0.6666666666666666,
             "#ed7953"
            ],
            [
             0.7777777777777778,
             "#fb9f3a"
            ],
            [
             0.8888888888888888,
             "#fdca26"
            ],
            [
             1,
             "#f0f921"
            ]
           ]
          },
          "colorway": [
           "#636efa",
           "#EF553B",
           "#00cc96",
           "#ab63fa",
           "#FFA15A",
           "#19d3f3",
           "#FF6692",
           "#B6E880",
           "#FF97FF",
           "#FECB52"
          ],
          "font": {
           "color": "#2a3f5f"
          },
          "geo": {
           "bgcolor": "white",
           "lakecolor": "white",
           "landcolor": "#E5ECF6",
           "showlakes": true,
           "showland": true,
           "subunitcolor": "white"
          },
          "hoverlabel": {
           "align": "left"
          },
          "hovermode": "closest",
          "mapbox": {
           "style": "light"
          },
          "paper_bgcolor": "white",
          "plot_bgcolor": "#E5ECF6",
          "polar": {
           "angularaxis": {
            "gridcolor": "white",
            "linecolor": "white",
            "ticks": ""
           },
           "bgcolor": "#E5ECF6",
           "radialaxis": {
            "gridcolor": "white",
            "linecolor": "white",
            "ticks": ""
           }
          },
          "scene": {
           "xaxis": {
            "backgroundcolor": "#E5ECF6",
            "gridcolor": "white",
            "gridwidth": 2,
            "linecolor": "white",
            "showbackground": true,
            "ticks": "",
            "zerolinecolor": "white"
           },
           "yaxis": {
            "backgroundcolor": "#E5ECF6",
            "gridcolor": "white",
            "gridwidth": 2,
            "linecolor": "white",
            "showbackground": true,
            "ticks": "",
            "zerolinecolor": "white"
           },
           "zaxis": {
            "backgroundcolor": "#E5ECF6",
            "gridcolor": "white",
            "gridwidth": 2,
            "linecolor": "white",
            "showbackground": true,
            "ticks": "",
            "zerolinecolor": "white"
           }
          },
          "shapedefaults": {
           "line": {
            "color": "#2a3f5f"
           }
          },
          "ternary": {
           "aaxis": {
            "gridcolor": "white",
            "linecolor": "white",
            "ticks": ""
           },
           "baxis": {
            "gridcolor": "white",
            "linecolor": "white",
            "ticks": ""
           },
           "bgcolor": "#E5ECF6",
           "caxis": {
            "gridcolor": "white",
            "linecolor": "white",
            "ticks": ""
           }
          },
          "title": {
           "x": 0.05
          },
          "xaxis": {
           "automargin": true,
           "gridcolor": "white",
           "linecolor": "white",
           "ticks": "",
           "title": {
            "standoff": 15
           },
           "zerolinecolor": "white",
           "zerolinewidth": 2
          },
          "yaxis": {
           "automargin": true,
           "gridcolor": "white",
           "linecolor": "white",
           "ticks": "",
           "title": {
            "standoff": 15
           },
           "zerolinecolor": "white",
           "zerolinewidth": 2
          }
         }
        },
        "title": {
         "text": "Rating vs No of Reviews",
         "x": 0.5,
         "xanchor": "center",
         "y": 0.95,
         "yanchor": "top"
        },
        "xaxis": {
         "anchor": "y",
         "domain": [
          0,
          1
         ],
         "title": {
          "text": "Ratings"
         }
        },
        "yaxis": {
         "anchor": "x",
         "domain": [
          0,
          1
         ],
         "title": {
          "text": "Number of Reviews"
         }
        }
       }
      }
     },
     "metadata": {},
     "output_type": "display_data"
    }
   ],
   "source": [
    "# Assuming `data_bin` is the binary-labeled dataset\n",
    "label_counts = data_bin['label'].value_counts().sort_index()\n",
    "\n",
    "# Create a bar plot using Plotly\n",
    "fig = px.bar(\n",
    "    x=label_counts.index,  # Categories in 'label'\n",
    "    y=label_counts.values,  # Corresponding counts\n",
    "    color=label_counts.index,  # Use the label as the color\n",
    "    color_continuous_scale=\"Viridis\"  # Professional color scheme\n",
    ")\n",
    "\n",
    "# Update axes titles and layout\n",
    "fig.update_xaxes(title=\"Ratings\")\n",
    "fig.update_yaxes(title=\"Number of Reviews\")\n",
    "fig.update_layout(\n",
    "    showlegend=True,\n",
    "    title={\n",
    "        'text': 'Rating vs No of Reviews',\n",
    "        'y': 0.95,\n",
    "        'x': 0.5,\n",
    "        'xanchor': 'center',\n",
    "        'yanchor': 'top'\n",
    "    }\n",
    ")\n",
    "\n",
    "fig.show()\n"
   ]
  },
  {
   "cell_type": "markdown",
   "metadata": {},
   "source": [
    "### Split data"
   ]
  },
  {
   "cell_type": "code",
   "execution_count": 21,
   "metadata": {},
   "outputs": [],
   "source": [
    "from sklearn.model_selection import train_test_split\n",
    "import numpy as np\n",
    "\n",
    "def split_data(data, text_column='text', label_column='label', test_size=0.2, random_state=None):\n",
    "\n",
    "    # Ensure the text and label columns are available in the dataset\n",
    "    if text_column not in data.columns or label_column not in data.columns:\n",
    "        raise ValueError(f\"Columns {text_column} or {label_column} not found in the dataset.\")\n",
    "\n",
    "    # Split the data into training and testing sets using train_test_split\n",
    "    X = data[text_column].astype(str)  # Convert text column to string\n",
    "    y = data[label_column]\n",
    "\n",
    "    # Perform the split\n",
    "    X_train, X_test, y_train, y_test = train_test_split(X, y, test_size=test_size, random_state=random_state)\n",
    "\n",
    "    return X_train, y_train, X_test, y_test\n",
    "\n",
    "\n",
    "# Example usage\n",
    "X_train, y_train, X_test, y_test = split_data(data_bin, text_column='text', label_column='label', test_size=0.2, random_state=42)\n"
   ]
  }
 ],
 "metadata": {
  "kernelspec": {
   "display_name": "Python 3",
   "language": "python",
   "name": "python3"
  },
  "language_info": {
   "codemirror_mode": {
    "name": "ipython",
    "version": 3
   },
   "file_extension": ".py",
   "mimetype": "text/x-python",
   "name": "python",
   "nbconvert_exporter": "python",
   "pygments_lexer": "ipython3",
   "version": "3.11.9"
  }
 },
 "nbformat": 4,
 "nbformat_minor": 2
}
